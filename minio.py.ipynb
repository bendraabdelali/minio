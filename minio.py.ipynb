{
 "cells": [
  {
   "cell_type": "code",
   "execution_count": 1,
   "id": "5bf8dd13",
   "metadata": {},
   "outputs": [
    {
     "name": "stdout",
     "output_type": "stream",
     "text": [
      "Requirement already satisfied: minio in c:\\users\\abdelali\\anaconda3\\lib\\site-packages (7.1.8)\n",
      "Requirement already satisfied: certifi in c:\\users\\abdelali\\anaconda3\\lib\\site-packages (from minio) (2021.10.8)\n",
      "Requirement already satisfied: urllib3 in c:\\users\\abdelali\\anaconda3\\lib\\site-packages (from minio) (1.26.9)\n",
      "Note: you may need to restart the kernel to use updated packages.\n"
     ]
    }
   ],
   "source": [
    "pip install minio"
   ]
  },
  {
   "cell_type": "code",
   "execution_count": 96,
   "id": "5ec38b64",
   "metadata": {},
   "outputs": [],
   "source": [
    "from minio import Minio\n",
    "from minio.error import S3Error\n",
    "\n",
    "\n",
    "def main(client):\n",
    "    client = client\n",
    "\n",
    "    # Make 'asiatrip' bucket if not exist.\n",
    "    found = client.bucket_exists(\"asiatrip\")\n",
    "    if not found:\n",
    "        client.make_bucket(\"asiatrip\")\n",
    "    else:\n",
    "        print(\"Bucket 'asiatrip' already exists\")\n",
    "\n",
    "    # Upload '/home/user/Photos/asiaphotos.zip' as object name\n",
    "    # 'asiaphotos-2015.zip' to bucket 'asiatrip'.\n",
    "if __name__ == \"__main__\":\n",
    "    try:\n",
    "        client = Minio( endpoint = \"localhost:9000\", access_key = \"abdo\", secret_key = \"abdo1234\", secure = False )\n",
    "        main(client)\n",
    "    except S3Error as exc:\n",
    "        print(\"error occurred.\", exc)"
   ]
  },
  {
   "cell_type": "code",
   "execution_count": 17,
   "id": "f3e6f6ff",
   "metadata": {},
   "outputs": [],
   "source": [
    "find =  client.bucket_exists(\"abdo\")\n",
    "if find:\n",
    "    print(\"bucket exists\")\n",
    "else:\n",
    "    client.make_bucket(\"abdo\")"
   ]
  },
  {
   "cell_type": "code",
   "execution_count": 28,
   "id": "90b5f5c2",
   "metadata": {},
   "outputs": [
    {
     "name": "stdout",
     "output_type": "stream",
     "text": [
      "abdo 2022-06-02 13:39:14.746000+00:00\n",
      "asiatrip 2022-06-02 13:33:20.890000+00:00\n"
     ]
    }
   ],
   "source": [
    "#list of buckts\n",
    "\n",
    "buckets = client.list_buckets()\n",
    "\n",
    "for bucket in buckets:\n",
    "    print(bucket.name, bucket.creation_date)"
   ]
  },
  {
   "cell_type": "code",
   "execution_count": 97,
   "id": "8072aa20",
   "metadata": {},
   "outputs": [
    {
     "name": "stdout",
     "output_type": "stream",
     "text": [
      "abdo\n",
      "first_insert_file 25995\n",
      "asiatrip\n"
     ]
    }
   ],
   "source": [
    "#select bucks \n",
    "\n",
    "for bucket in buckets:\n",
    "    print(bucket.name)\n",
    "    for objcet in client.list_objects(bucket.name ):\n",
    "        print(objcet.object_name,objcet.size)\n"
   ]
  },
  {
   "cell_type": "code",
   "execution_count": 64,
   "id": "0474962c",
   "metadata": {},
   "outputs": [
    {
     "name": "stdout",
     "output_type": "stream",
     "text": [
      "<minio.helpers.ObjectWriteResult object at 0x0000028C9E404550>\n"
     ]
    }
   ],
   "source": [
    "#insert file \n",
    "import os \n",
    "path  = \"C:/Users/abdelali/Downloads/AutoData.csv\"\n",
    "with open (path,'rb')  as file :\n",
    "    size = os.stat(path).st_size\n",
    "    insert = client.put_object(\"abdo\",\"first_insert_file\",file,size)\n",
    "    print(insert)"
   ]
  },
  {
   "cell_type": "code",
   "execution_count": 79,
   "id": "9d62644c",
   "metadata": {},
   "outputs": [
    {
     "data": {
      "text/plain": [
       "<minio.datatypes.Object at 0x28c9f7b0c40>"
      ]
     },
     "execution_count": 79,
     "metadata": {},
     "output_type": "execute_result"
    }
   ],
   "source": [
    " #get the data\n",
    "client.fget_object('abdo', 'first', 'C:/Users/abdelali/Downloads/tst.csv')"
   ]
  },
  {
   "cell_type": "code",
   "execution_count": 85,
   "id": "62a36ffc",
   "metadata": {},
   "outputs": [],
   "source": [
    "#remove objects \n",
    "client.remove_object(\"asiatrip\",\"first_insert_file\")"
   ]
  },
  {
   "cell_type": "code",
   "execution_count": 105,
   "id": "9859ab90",
   "metadata": {},
   "outputs": [
    {
     "name": "stdout",
     "output_type": "stream",
     "text": [
      "Minio say :hhhhh  S3 operation failed; code: NoSuchBucket, message: The specified bucket does not exist, resource: /asiatrip, request_id: 16F4D5BE7F9C7830, host_id: 917e09c9-2bcf-441a-8ac5-acdb128cdfa4, bucket_name: asiatrip\n"
     ]
    }
   ],
   "source": [
    "#REMOve bucketrs \n",
    "try :\n",
    "    client.remove_bucket(\"asiatrip\")\n",
    "except S3Error as error:\n",
    "    print(\"Minio say :hhhhh \",error)\n",
    "    "
   ]
  },
  {
   "cell_type": "code",
   "execution_count": 103,
   "id": "9f9a712c",
   "metadata": {},
   "outputs": [
    {
     "name": "stdout",
     "output_type": "stream",
     "text": [
      "abdo\n",
      "asiatrip\n"
     ]
    }
   ],
   "source": [
    "#select bucks \n",
    "\n",
    "for bucket in buckets:\n",
    "    print(bucket.name)\n",
    "    "
   ]
  },
  {
   "cell_type": "code",
   "execution_count": null,
   "id": "1db6646a",
   "metadata": {},
   "outputs": [],
   "source": []
  },
  {
   "cell_type": "code",
   "execution_count": null,
   "id": "b8106853",
   "metadata": {},
   "outputs": [],
   "source": []
  },
  {
   "cell_type": "code",
   "execution_count": null,
   "id": "da1a1ad2",
   "metadata": {},
   "outputs": [],
   "source": [
    "\n"
   ]
  },
  {
   "cell_type": "code",
   "execution_count": null,
   "id": "59d1fd4b",
   "metadata": {},
   "outputs": [],
   "source": []
  },
  {
   "cell_type": "code",
   "execution_count": null,
   "id": "7169828b",
   "metadata": {},
   "outputs": [],
   "source": []
  },
  {
   "cell_type": "code",
   "execution_count": null,
   "id": "96703fef",
   "metadata": {},
   "outputs": [],
   "source": []
  },
  {
   "cell_type": "code",
   "execution_count": null,
   "id": "df0bbaf9",
   "metadata": {},
   "outputs": [],
   "source": []
  },
  {
   "cell_type": "code",
   "execution_count": null,
   "id": "096b600c",
   "metadata": {},
   "outputs": [],
   "source": []
  },
  {
   "cell_type": "code",
   "execution_count": null,
   "id": "f08c9f9e",
   "metadata": {},
   "outputs": [],
   "source": []
  },
  {
   "cell_type": "code",
   "execution_count": null,
   "id": "acb7140a",
   "metadata": {},
   "outputs": [],
   "source": []
  }
 ],
 "metadata": {
  "kernelspec": {
   "display_name": "Python 3 (ipykernel)",
   "language": "python",
   "name": "python3"
  },
  "language_info": {
   "codemirror_mode": {
    "name": "ipython",
    "version": 3
   },
   "file_extension": ".py",
   "mimetype": "text/x-python",
   "name": "python",
   "nbconvert_exporter": "python",
   "pygments_lexer": "ipython3",
   "version": "3.9.12"
  }
 },
 "nbformat": 4,
 "nbformat_minor": 5
}
